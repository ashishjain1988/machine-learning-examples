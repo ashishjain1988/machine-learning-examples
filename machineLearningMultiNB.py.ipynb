{
 "cells": [
  {
   "cell_type": "code",
   "execution_count": 2,
   "metadata": {},
   "outputs": [],
   "source": [
    "from sklearn.naive_bayes import MultinomialNB\n",
    "import numpy as np\n",
    "import pandas as pd\n",
    "clf = MultinomialNB()"
   ]
  },
  {
   "cell_type": "code",
   "execution_count": 3,
   "metadata": {},
   "outputs": [
    {
     "name": "stdout",
     "output_type": "stream",
     "text": [
      "[[0 1 0 2 1 1 2 0 3 2 1 0 2 0 0 1 2 3 0 1 2 0 0 2 3 0 4 4 1 3 3 0 3 3 3 0\n",
      "  2 4 2 4 4 4 2 3 3 3 3 0 0 2 2 3 0 4 4 3 4 4 0 2 3 3 0 4 1 3 4 4 3 1 2 0\n",
      "  1 4 0 3 1 2 3 0 2 4 4 3 0 0 1 4 0 4 4 1 1 1 0 3 2 2 0 1]\n",
      " [4 4 1 2 3 3 1 3 3 0 2 1 1 1 3 2 4 4 1 1 3 3 4 2 1 2 1 1 3 2 1 1 4 4 3 4\n",
      "  1 2 0 3 1 4 2 0 0 0 1 4 3 2 1 3 0 1 0 0 0 0 2 4 3 2 1 2 2 0 2 0 0 3 4 3\n",
      "  1 0 0 2 2 3 4 4 2 2 3 3 1 0 3 0 0 4 0 3 4 3 4 0 3 4 0 2]\n",
      " [3 2 0 0 4 1 4 4 1 3 2 1 3 2 0 2 1 0 3 0 4 0 2 0 2 4 0 0 1 1 4 4 0 3 3 2\n",
      "  2 2 1 3 3 4 2 0 0 3 1 3 4 3 2 3 4 3 4 2 3 4 0 4 4 3 4 4 3 3 1 2 1 1 4 4\n",
      "  3 0 4 0 0 1 1 4 3 4 2 3 1 2 0 2 2 3 3 4 4 3 0 3 4 0 1 4]\n",
      " [3 2 2 0 3 1 1 0 3 4 4 3 1 2 0 3 4 3 3 2 4 0 2 2 2 1 2 4 0 3 4 1 3 4 2 4\n",
      "  4 2 0 3 0 3 2 1 3 3 4 4 0 3 1 1 1 2 3 1 3 2 3 0 1 1 4 2 0 2 1 4 1 3 0 3\n",
      "  0 4 1 2 2 3 4 2 2 0 4 1 3 2 0 2 3 1 3 3 2 3 1 2 0 3 4 0]\n",
      " [3 2 0 4 2 0 4 4 2 3 3 3 3 0 4 1 2 0 4 1 1 1 0 3 1 4 2 2 2 1 2 4 2 4 1 0\n",
      "  1 3 0 1 3 4 1 1 4 4 1 1 3 0 2 3 4 0 0 4 1 2 2 0 2 4 4 3 3 2 0 4 2 2 1 2\n",
      "  0 3 1 3 3 3 2 4 0 1 0 0 3 1 3 0 2 2 1 4 1 3 1 1 1 1 1 0]\n",
      " [3 1 1 2 2 4 2 2 0 0 0 1 2 1 1 2 1 3 0 2 1 4 4 4 3 4 0 3 0 3 4 2 4 2 4 0\n",
      "  1 0 3 3 4 3 0 3 2 0 1 3 0 4 4 1 0 1 3 2 3 4 0 0 3 3 1 2 0 4 0 3 3 2 4 2\n",
      "  4 4 0 1 3 0 1 3 0 2 1 2 2 0 0 3 0 3 2 3 1 2 0 1 1 1 0 0]]\n"
     ]
    }
   ],
   "source": [
    "X = np.random.randint(5, size=(6, 100))\n",
    "y = np.array([1, 2, 3, 4, 5, 6])\n",
    "#print(X)"
   ]
  },
  {
   "cell_type": "code",
   "execution_count": 117,
   "metadata": {},
   "outputs": [],
   "source": [
    "train_data = np.loadtxt(\"/Users/jain/Downloads/20newsgroups/train_data.csv\", delimiter=\",\", unpack=False)\n",
    "train_label = np.loadtxt(\"/Users/jain/Downloads/20newsgroups/train_label.csv\", delimiter=\",\", unpack=False)\n",
    "test_data = np.loadtxt(\"/Users/jain/Downloads/20newsgroups/test_data.csv\", delimiter=\",\", unpack=False)\n",
    "test_label = np.loadtxt(\"/Users/jain/Downloads/20newsgroups/test_label.csv\", delimiter=\",\", unpack=False)\n",
    "vocabNum = np.linspace(1,61188,61188)"
   ]
  },
  {
   "cell_type": "code",
   "execution_count": 118,
   "metadata": {},
   "outputs": [
    {
     "name": "stdout",
     "output_type": "stream",
     "text": [
      "(11269, 61188)\n"
     ]
    }
   ],
   "source": [
    "df1 = pd.DataFrame(train_data,columns=['docIdx','wordIdx','count'])\n",
    "df2 = df1.pivot(index='docIdx', columns='wordIdx', values='count')\n",
    "notCol = np.setdiff1d(vocabNum,df2.columns.values)\n",
    "df_new = pd.concat(\n",
    "    [\n",
    "        df2,\n",
    "        pd.DataFrame(\n",
    "            [[0.] * notCol.shape[0]], \n",
    "            index=df2.index, \n",
    "            columns=notCol\n",
    "        )\n",
    "    ], axis=1\n",
    ")\n",
    "print(df_new.shape)\n",
    "d = df_new.values\n",
    "d = np.nan_to_num(d)"
   ]
  },
  {
   "cell_type": "code",
   "execution_count": 126,
   "metadata": {},
   "outputs": [
    {
     "name": "stdout",
     "output_type": "stream",
     "text": [
      "[2. 2. 2. 2. 2. 2. 2. 2.]\n"
     ]
    }
   ],
   "source": [
    "clf.fit(d, train_label)\n",
    "print(clf.predict(d[600:608,]))"
   ]
  },
  {
   "cell_type": "code",
   "execution_count": 127,
   "metadata": {},
   "outputs": [
    {
     "name": "stdout",
     "output_type": "stream",
     "text": [
      "        1.0      2.0      3.0      4.0      5.0      6.0      7.0      \\\n",
      "docIdx                                                                  \n",
      "1.0         NaN      NaN      1.0      NaN      NaN      NaN      NaN   \n",
      "2.0         NaN      NaN      NaN      NaN      NaN      NaN      1.0   \n",
      "3.0         NaN      NaN      NaN      NaN      NaN      NaN      NaN   \n",
      "4.0         NaN      NaN      NaN      NaN      NaN      NaN      NaN   \n",
      "5.0         NaN      NaN      NaN      NaN      NaN      NaN      NaN   \n",
      "\n",
      "        8.0      9.0      10.0      ...     53929.0  53930.0  53932.0  \\\n",
      "docIdx                              ...                                 \n",
      "1.0         NaN      NaN      1.0   ...         0.0      0.0      0.0   \n",
      "2.0         NaN      NaN      NaN   ...         0.0      0.0      0.0   \n",
      "3.0         NaN      NaN      NaN   ...         0.0      0.0      0.0   \n",
      "4.0         NaN      NaN      1.0   ...         0.0      0.0      0.0   \n",
      "5.0         NaN      NaN      NaN   ...         0.0      0.0      0.0   \n",
      "\n",
      "        53938.0  53939.0  53945.0  53948.0  53963.0  53965.0  53968.0  \n",
      "docIdx                                                                 \n",
      "1.0         0.0      0.0      0.0      0.0      0.0      0.0      0.0  \n",
      "2.0         0.0      0.0      0.0      0.0      0.0      0.0      0.0  \n",
      "3.0         0.0      0.0      0.0      0.0      0.0      0.0      0.0  \n",
      "4.0         0.0      0.0      0.0      0.0      0.0      0.0      0.0  \n",
      "5.0         0.0      0.0      0.0      0.0      0.0      0.0      0.0  \n",
      "\n",
      "[5 rows x 61188 columns]\n"
     ]
    },
    {
     "data": {
      "text/plain": [
       "array([1., 1., 1., ..., 1., 1., 1.])"
      ]
     },
     "execution_count": 127,
     "metadata": {},
     "output_type": "execute_result"
    }
   ],
   "source": [
    "df_test1 = pd.DataFrame(test_data,columns=['docIdx','wordIdx','count'])\n",
    "df_test2 = df_test1.pivot(index='docIdx', columns='wordIdx', values='count')\n",
    "notColTest = np.setdiff1d(vocabNum,df_test2.columns.values)\n",
    "dftest_new = pd.concat(\n",
    "    [\n",
    "        df_test2,\n",
    "        pd.DataFrame(\n",
    "            [[0.] * notColTest.shape[0]], \n",
    "            index=df_test2.index, \n",
    "            columns=notColTest\n",
    "        )\n",
    "    ], axis=1\n",
    ")\n",
    "#print(dftest_new.head())\n",
    "dtest = dftest_new.values\n",
    "dtest = np.nan_to_num(dtest)\n",
    "pre = clf.predict(dtest)"
   ]
  },
  {
   "cell_type": "code",
   "execution_count": 133,
   "metadata": {},
   "outputs": [
    {
     "ename": "NameError",
     "evalue": "name 'pre' is not defined",
     "output_type": "error",
     "traceback": [
      "\u001b[0;31m---------------------------------------------------------------------------\u001b[0m",
      "\u001b[0;31mNameError\u001b[0m                                 Traceback (most recent call last)",
      "\u001b[0;32m<ipython-input-133-1e1137e64666>\u001b[0m in \u001b[0;36m<module>\u001b[0;34m()\u001b[0m\n\u001b[1;32m      1\u001b[0m \u001b[0;32mimport\u001b[0m \u001b[0msklearn\u001b[0m\u001b[0;34m.\u001b[0m\u001b[0mmetrics\u001b[0m \u001b[0;32mas\u001b[0m \u001b[0mmk\u001b[0m\u001b[0;34m\u001b[0m\u001b[0m\n\u001b[0;32m----> 2\u001b[0;31m \u001b[0mmk\u001b[0m\u001b[0;34m.\u001b[0m\u001b[0maccuracy_score\u001b[0m\u001b[0;34m(\u001b[0m\u001b[0mtest_label\u001b[0m\u001b[0;34m,\u001b[0m \u001b[0mpre\u001b[0m\u001b[0;34m)\u001b[0m\u001b[0;34m\u001b[0m\u001b[0m\n\u001b[0m\u001b[1;32m      3\u001b[0m \u001b[0mmk\u001b[0m\u001b[0;34m.\u001b[0m\u001b[0mconfusion_matrix\u001b[0m\u001b[0;34m(\u001b[0m\u001b[0mtest_label\u001b[0m\u001b[0;34m,\u001b[0m \u001b[0mpre\u001b[0m\u001b[0;34m)\u001b[0m\u001b[0;34m\u001b[0m\u001b[0m\n\u001b[1;32m      4\u001b[0m \u001b[0mmk\u001b[0m\u001b[0;34m.\u001b[0m\u001b[0mclassification_report\u001b[0m\u001b[0;34m(\u001b[0m\u001b[0mtest_label\u001b[0m\u001b[0;34m,\u001b[0m \u001b[0mpre\u001b[0m\u001b[0;34m)\u001b[0m\u001b[0;34m\u001b[0m\u001b[0m\n",
      "\u001b[0;31mNameError\u001b[0m: name 'pre' is not defined"
     ]
    }
   ],
   "source": [
    "import sklearn.metrics as mk\n",
    "mk.accuracy_score(test_label, pre)\n",
    "mk.confusion_matrix(test_label, pre)\n",
    "mk.classification_report(test_label, pre)"
   ]
  },
  {
   "cell_type": "code",
   "execution_count": null,
   "metadata": {},
   "outputs": [],
   "source": []
  }
 ],
 "metadata": {
  "kernelspec": {
   "display_name": "Python 2",
   "language": "python",
   "name": "python2"
  },
  "language_info": {
   "codemirror_mode": {
    "name": "ipython",
    "version": 2
   },
   "file_extension": ".py",
   "mimetype": "text/x-python",
   "name": "python",
   "nbconvert_exporter": "python",
   "pygments_lexer": "ipython2",
   "version": "2.7.10"
  }
 },
 "nbformat": 4,
 "nbformat_minor": 2
}
