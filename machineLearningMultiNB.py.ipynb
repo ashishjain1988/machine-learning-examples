{
 "cells": [
  {
   "cell_type": "code",
   "execution_count": 2,
   "metadata": {},
   "outputs": [],
   "source": [
    "from sklearn.naive_bayes import MultinomialNB\n",
    "import numpy as np\n",
    "import pandas as pd\n",
    "clf = MultinomialNB()"
   ]
  },
  {
   "cell_type": "code",
   "execution_count": 3,
   "metadata": {},
   "outputs": [],
   "source": [
    "X = np.random.randint(5, size=(6, 100))\n",
    "y = np.array([1, 2, 3, 4, 5, 6])\n",
    "#print(X)"
   ]
  },
  {
   "cell_type": "code",
   "execution_count": 4,
   "metadata": {},
   "outputs": [],
   "source": [
    "train_data = np.loadtxt(\"/Users/jain/Downloads/20newsgroups/train_data.csv\", delimiter=\",\", unpack=False)\n",
    "train_label = np.loadtxt(\"/Users/jain/Downloads/20newsgroups/train_label.csv\", delimiter=\",\", unpack=False)\n",
    "test_data = np.loadtxt(\"/Users/jain/Downloads/20newsgroups/test_data.csv\", delimiter=\",\", unpack=False)\n",
    "test_label = np.loadtxt(\"/Users/jain/Downloads/20newsgroups/test_label.csv\", delimiter=\",\", unpack=False)\n",
    "vocabNum = np.linspace(1,61188,61188)"
   ]
  },
  {
   "cell_type": "code",
   "execution_count": 12,
   "metadata": {},
   "outputs": [
    {
     "name": "stdout",
     "output_type": "stream",
     "text": [
      "(11269, 61188)\n"
     ]
    }
   ],
   "source": [
    "df1 = pd.DataFrame(train_data,columns=['docIdx','wordIdx','count'])\n",
    "df2 = df1.pivot(index='docIdx', columns='wordIdx', values='count')\n",
    "notCol = np.setdiff1d(vocabNum,df2.columns.values)\n",
    "df_new = pd.concat(\n",
    "    [\n",
    "        df2,\n",
    "        pd.DataFrame(\n",
    "            [[0.] * notCol.shape[0]], \n",
    "            index=df2.index, \n",
    "            columns=notCol\n",
    "        )\n",
    "    ], axis=1\n",
    ")\n",
    "print(df_new.shape)\n",
    "df_new = df_new.sort_index(axis=1)\n",
    "d = df_new.values\n",
    "d = np.nan_to_num(d)"
   ]
  },
  {
   "cell_type": "code",
   "execution_count": 13,
   "metadata": {},
   "outputs": [
    {
     "name": "stdout",
     "output_type": "stream",
     "text": [
      "[2. 2. 2. 2. 2. 2. 2. 2.]\n"
     ]
    }
   ],
   "source": [
    "clf.fit(d, train_label)\n",
    "print(clf.predict(d[600:608,]))"
   ]
  },
  {
   "cell_type": "code",
   "execution_count": 14,
   "metadata": {},
   "outputs": [
    {
     "name": "stdout",
     "output_type": "stream",
     "text": [
      "(7505, 61188)\n"
     ]
    }
   ],
   "source": [
    "df_test1 = pd.DataFrame(test_data,columns=['docIdx','wordIdx','count'])\n",
    "df_test2 = df_test1.pivot(index='docIdx', columns='wordIdx', values='count')\n",
    "notColTest = np.setdiff1d(vocabNum,df_test2.columns.values)\n",
    "dftest_new = pd.concat(\n",
    "    [\n",
    "        df_test2,\n",
    "        pd.DataFrame(\n",
    "            [[0.] * notColTest.shape[0]], \n",
    "            index=df_test2.index, \n",
    "            columns=notColTest\n",
    "        )\n",
    "    ], axis=1\n",
    ")\n",
    "print(dftest_new.shape)\n",
    "dftest_new = dftest_new.sort_index(axis=1)\n",
    "dtest = dftest_new.values\n",
    "dtest = np.nan_to_num(dtest)\n",
    "pre = clf.predict(dtest)"
   ]
  },
  {
   "cell_type": "code",
   "execution_count": 16,
   "metadata": {},
   "outputs": [
    {
     "data": {
      "text/plain": [
       "0.7810792804796802"
      ]
     },
     "execution_count": 16,
     "metadata": {},
     "output_type": "execute_result"
    }
   ],
   "source": [
    "import sklearn.metrics as mk\n",
    "mk.accuracy_score(test_label, pre)\n",
    "#mk.confusion_matrix(test_label, pre)\n",
    "#mk.classification_report(test_label, pre)"
   ]
  },
  {
   "cell_type": "code",
   "execution_count": null,
   "metadata": {},
   "outputs": [],
   "source": []
  }
 ],
 "metadata": {
  "kernelspec": {
   "display_name": "Python 2",
   "language": "python",
   "name": "python2"
  },
  "language_info": {
   "codemirror_mode": {
    "name": "ipython",
    "version": 2
   },
   "file_extension": ".py",
   "mimetype": "text/x-python",
   "name": "python",
   "nbconvert_exporter": "python",
   "pygments_lexer": "ipython2",
   "version": "2.7.10"
  }
 },
 "nbformat": 4,
 "nbformat_minor": 2
}
