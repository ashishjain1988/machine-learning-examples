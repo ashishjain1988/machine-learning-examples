{
 "cells": [
  {
   "cell_type": "code",
   "execution_count": 2,
   "metadata": {},
   "outputs": [],
   "source": [
    "from sklearn.naive_bayes import MultinomialNB\n",
    "import numpy as np\n",
    "import pandas as pd\n",
    "clf = MultinomialNB()"
   ]
  },
  {
   "cell_type": "code",
   "execution_count": 3,
   "metadata": {},
   "outputs": [],
   "source": [
    "X = np.random.randint(5, size=(6, 100))\n",
    "y = np.array([1, 2, 3, 4, 5, 6])\n",
    "#print(X)"
   ]
  },
  {
   "cell_type": "code",
   "execution_count": 4,
   "metadata": {},
   "outputs": [],
   "source": [
    "train_data = np.loadtxt(\"/Users/jain/Downloads/20newsgroups/train_data.csv\", delimiter=\",\", unpack=False)\n",
    "train_label = np.loadtxt(\"/Users/jain/Downloads/20newsgroups/train_label.csv\", delimiter=\",\", unpack=False)\n",
    "test_data = np.loadtxt(\"/Users/jain/Downloads/20newsgroups/test_data.csv\", delimiter=\",\", unpack=False)\n",
    "test_label = np.loadtxt(\"/Users/jain/Downloads/20newsgroups/test_label.csv\", delimiter=\",\", unpack=False)\n",
    "vocabNum = np.linspace(1,61188,61188)"
   ]
  },
  {
   "cell_type": "code",
   "execution_count": 5,
   "metadata": {},
   "outputs": [
    {
     "name": "stdout",
     "output_type": "stream",
     "text": [
      "(11269, 61188)\n"
     ]
    },
    {
     "name": "stderr",
     "output_type": "stream",
     "text": [
      "/Users/jain/my-venv/lib/python2.7/site-packages/ipykernel_launcher.py:15: FutureWarning: '.reindex_axis' is deprecated and will be removed in a future version. Use '.reindex' instead.\n",
      "  from ipykernel import kernelapp as app\n"
     ]
    }
   ],
   "source": [
    "df1 = pd.DataFrame(train_data,columns=['docIdx','wordIdx','count'])\n",
    "df2 = df1.pivot(index='docIdx', columns='wordIdx', values='count')\n",
    "notCol = np.setdiff1d(vocabNum,df2.columns.values)\n",
    "df_new = pd.concat(\n",
    "    [\n",
    "        df2,\n",
    "        pd.DataFrame(\n",
    "            [[0.] * notCol.shape[0]], \n",
    "            index=df2.index, \n",
    "            columns=notCol\n",
    "        )\n",
    "    ], axis=1\n",
    ")\n",
    "print(df_new.shape)\n",
    "df_new = df_new.reindex_axis(sorted(df_new.columns), axis=1)\n",
    "d = df_new.values\n",
    "d = np.nan_to_num(d)"
   ]
  },
  {
   "cell_type": "code",
   "execution_count": 6,
   "metadata": {},
   "outputs": [
    {
     "name": "stdout",
     "output_type": "stream",
     "text": [
      "[2. 2. 2. 2. 2. 2. 2. 2.]\n"
     ]
    }
   ],
   "source": [
    "clf.fit(d, train_label)\n",
    "print(clf.predict(d[600:608,]))"
   ]
  },
  {
   "cell_type": "code",
   "execution_count": 7,
   "metadata": {},
   "outputs": [
    {
     "name": "stderr",
     "output_type": "stream",
     "text": [
      "/Users/jain/my-venv/lib/python2.7/site-packages/ipykernel_launcher.py:15: FutureWarning: '.reindex_axis' is deprecated and will be removed in a future version. Use '.reindex' instead.\n",
      "  from ipykernel import kernelapp as app\n"
     ]
    }
   ],
   "source": [
    "df_test1 = pd.DataFrame(test_data,columns=['docIdx','wordIdx','count'])\n",
    "df_test2 = df_test1.pivot(index='docIdx', columns='wordIdx', values='count')\n",
    "notColTest = np.setdiff1d(vocabNum,df_test2.columns.values)\n",
    "dftest_new = pd.concat(\n",
    "    [\n",
    "        df_test2,\n",
    "        pd.DataFrame(\n",
    "            [[0.] * notColTest.shape[0]], \n",
    "            index=df_test2.index, \n",
    "            columns=notColTest\n",
    "        )\n",
    "    ], axis=1\n",
    ")\n",
    "#print(dftest_new.head())\n",
    "dftest_new = dftest_new.reindex_axis(sorted(dftest_new.columns), axis=1)\n",
    "dtest = dftest_new.values\n",
    "dtest = np.nan_to_num(dtest)\n",
    "pre = clf.predict(dtest)"
   ]
  },
  {
   "cell_type": "code",
   "execution_count": 11,
   "metadata": {},
   "outputs": [
    {
     "data": {
      "text/plain": [
       "u'             precision    recall  f1-score   support\\n\\n        1.0       0.70      0.74      0.72       318\\n        2.0       0.67      0.76      0.71       389\\n        3.0       0.82      0.53      0.64       391\\n        4.0       0.60      0.78      0.68       392\\n        5.0       0.79      0.71      0.75       383\\n        6.0       0.81      0.78      0.80       390\\n        7.0       0.91      0.59      0.72       382\\n        8.0       0.79      0.90      0.84       395\\n        9.0       0.94      0.89      0.91       397\\n       10.0       0.96      0.87      0.91       397\\n       11.0       0.94      0.95      0.95       399\\n       12.0       0.74      0.91      0.82       395\\n       13.0       0.78      0.66      0.71       393\\n       14.0       0.88      0.82      0.85       393\\n       15.0       0.88      0.85      0.87       392\\n       16.0       0.68      0.95      0.79       398\\n       17.0       0.69      0.89      0.78       364\\n       18.0       0.88      0.86      0.87       376\\n       19.0       0.57      0.59      0.58       310\\n       20.0       0.83      0.35      0.50       251\\n\\navg / total       0.80      0.78      0.78      7505\\n'"
      ]
     },
     "execution_count": 11,
     "metadata": {},
     "output_type": "execute_result"
    }
   ],
   "source": [
    "import sklearn.metrics as mk\n",
    "mk.accuracy_score(test_label, pre)\n",
    "mk.confusion_matrix(test_label, pre)\n",
    "#mk.classification_report(test_label, pre)"
   ]
  },
  {
   "cell_type": "code",
   "execution_count": null,
   "metadata": {},
   "outputs": [],
   "source": []
  }
 ],
 "metadata": {
  "kernelspec": {
   "display_name": "Python 2",
   "language": "python",
   "name": "python2"
  },
  "language_info": {
   "codemirror_mode": {
    "name": "ipython",
    "version": 2
   },
   "file_extension": ".py",
   "mimetype": "text/x-python",
   "name": "python",
   "nbconvert_exporter": "python",
   "pygments_lexer": "ipython2",
   "version": "2.7.10"
  }
 },
 "nbformat": 4,
 "nbformat_minor": 2
}
