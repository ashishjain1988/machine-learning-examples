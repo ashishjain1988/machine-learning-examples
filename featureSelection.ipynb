{
 "cells": [
  {
   "cell_type": "code",
   "execution_count": 8,
   "metadata": {},
   "outputs": [],
   "source": [
    "from pandas import read_csv\n",
    "from sklearn.feature_selection import RFE\n",
    "from sklearn.linear_model import LogisticRegression\n",
    "import numpy as np\n",
    "import pandas as pd"
   ]
  },
  {
   "cell_type": "code",
   "execution_count": 121,
   "metadata": {},
   "outputs": [
    {
     "name": "stdout",
     "output_type": "stream",
     "text": [
      "[1. 0. 1. 0. 1. 0. 1. 0. 1. 1. 0. 1. 0. 1. 1. 1. 1. 1. 0. 1. 0. 0. 1. 1.\n",
      " 1. 1. 1. 0. 0. 0. 0. 1. 0. 0. 0. 0. 0. 1. 1. 1. 0. 0. 0. 1. 0. 1. 0. 0.\n",
      " 1. 0. 0. 0. 0. 1. 0. 0. 1. 0. 0. 0. 0. 1. 0. 0. 1. 0. 1. 0. 0. 0. 1. 0.\n",
      " 1. 0. 0. 0. 0. 0. 1. 0. 0. 0. 0. 0. 1. 0. 0. 0. 1. 0. 0. 0. 0. 1. 0. 0.\n",
      " 0. 0. 0. 1. 1. 0. 0. 0. 0. 0. 0. 0. 0. 1. 1. 1. 0. 0. 1. 1. 1. 0. 0. 0.\n",
      " 1. 0. 0. 0. 1. 1. 0. 0. 1. 1. 1. 1. 1. 0. 0. 0. 0. 0. 0. 0. 0. 0. 0. 1.\n",
      " 0. 0. 0. 0. 0. 0. 0. 0. 1. 0. 1. 1. 0. 0. 0. 1. 0. 0. 0. 0. 1. 1. 0. 0.\n",
      " 0. 0. 1. 1. 0. 0. 0. 1. 0. 1. 0. 1. 0. 0. 0. 0. 0. 1. 1. 1. 1. 1. 0. 0.\n",
      " 1. 1. 0. 1. 0. 1. 1. 1. 0. 0. 0. 0. 0. 0. 1. 1. 0. 1. 0. 0. 0. 1. 1. 1.\n",
      " 1. 0. 1. 1. 1. 1. 0. 0. 0. 0. 0. 1. 0. 0. 1. 1. 0. 0. 0. 1. 1. 1. 1. 0.\n",
      " 0. 0. 1. 1. 0. 1. 0. 0. 0. 0. 0. 0. 0. 0. 1. 1. 0. 0. 0. 1. 0. 1. 0. 0.\n",
      " 1. 0. 1. 0. 0. 1. 1. 0. 0. 0. 0. 0. 1. 0. 0. 0. 1. 0. 0. 1. 1. 0. 0. 1.\n",
      " 0. 0. 0. 1. 1. 1. 0. 0. 1. 0. 1. 0. 1. 1. 0. 1. 0. 0. 1. 0. 1. 1. 0. 0.\n",
      " 1. 0. 1. 0. 0. 1. 0. 1. 0. 1. 1. 1. 0. 0. 1. 0. 1. 0. 0. 0. 1. 0. 0. 0.\n",
      " 0. 1. 1. 1. 0. 0. 0. 0. 0. 0. 0. 0. 0. 1. 0. 0. 0. 0. 0. 1. 1. 1. 0. 1.\n",
      " 1. 0. 0. 1. 0. 0. 1. 0. 0. 1. 1. 0. 0. 0. 0. 1. 0. 0. 1. 0. 0. 0. 0. 0.\n",
      " 0. 0. 1. 1. 1. 0. 0. 1. 0. 0. 1. 0. 0. 1. 0. 1. 1. 0. 1. 0. 1. 0. 1. 0.\n",
      " 1. 1. 0. 0. 0. 0. 1. 1. 0. 1. 0. 1. 0. 0. 0. 0. 1. 1. 0. 1. 0. 1. 0. 0.\n",
      " 0. 0. 0. 1. 0. 0. 0. 0. 1. 0. 0. 1. 1. 1. 0. 0. 1. 0. 0. 1. 0. 0. 0. 1.\n",
      " 0. 0. 1. 0. 0. 0. 0. 0. 0. 0. 0. 0. 1. 0. 0. 0. 0. 0. 0. 0. 1. 0. 0. 0.\n",
      " 1. 0. 0. 0. 1. 1. 0. 0. 0. 0. 0. 0. 0. 1. 0. 0. 0. 0. 1. 0. 0. 0. 1. 0.\n",
      " 0. 0. 1. 0. 0. 0. 1. 0. 0. 0. 0. 1. 1. 0. 0. 0. 0. 0. 0. 1. 0. 0. 0. 0.\n",
      " 0. 0. 0. 0. 0. 0. 0. 1. 0. 0. 0. 1. 1. 1. 1. 0. 0. 1. 1. 0. 0. 0. 0. 0.\n",
      " 0. 0. 0. 0. 0. 0. 0. 0. 1. 1. 0. 0. 0. 0. 0. 0. 0. 1. 0. 0. 0. 0. 0. 0.\n",
      " 0. 1. 0. 1. 1. 0. 0. 0. 1. 0. 1. 0. 1. 0. 1. 0. 1. 0. 0. 1. 0. 0. 1. 0.\n",
      " 0. 0. 0. 1. 1. 0. 1. 0. 0. 0. 0. 1. 1. 0. 1. 0. 0. 0. 1. 1. 0. 0. 0. 0.\n",
      " 0. 0. 0. 0. 0. 0. 1. 0. 0. 0. 0. 1. 0. 0. 1. 0. 0. 0. 1. 0. 0. 0. 1. 1.\n",
      " 1. 0. 0. 0. 0. 0. 0. 1. 0. 0. 0. 1. 0. 1. 1. 1. 1. 0. 1. 1. 0. 0. 0. 0.\n",
      " 0. 0. 0. 1. 1. 0. 1. 0. 0. 1. 0. 1. 0. 0. 0. 0. 0. 1. 0. 1. 0. 1. 0. 1.\n",
      " 1. 0. 0. 0. 0. 1. 1. 0. 0. 0. 1. 0. 1. 1. 0. 0. 1. 0. 0. 1. 1. 0. 0. 1.\n",
      " 0. 0. 1. 0. 0. 0. 0. 0. 0. 0. 1. 1. 1. 0. 0. 0. 0. 0. 0. 1. 1. 0. 0. 1.\n",
      " 0. 0. 1. 0. 1. 1. 1. 0. 0. 1. 1. 1. 0. 1. 0. 1. 0. 1. 0. 0. 0. 0. 1. 0.]\n"
     ]
    }
   ],
   "source": [
    "# load data\n",
    "url = \"https://raw.githubusercontent.com/jbrownlee/Datasets/master/pima-indians-diabetes.data.csv\"\n",
    "names = ['preg', 'plas', 'pres', 'skin', 'test', 'mass', 'pedi', 'age', 'class']\n",
    "dataframe = read_csv(url, names=names)\n",
    "array = dataframe.values\n",
    "X = array[:,0:8]\n",
    "Y = array[:,8]\n",
    "#print(dataframe.ix[:3])\n",
    "#print(X.shape)"
   ]
  },
  {
   "cell_type": "code",
   "execution_count": 8,
   "metadata": {},
   "outputs": [
    {
     "name": "stdout",
     "output_type": "stream",
     "text": [
      "Num Features: 3\n",
      "Selected Features: [ True False False False False  True  True False]\n",
      "Feature Ranking: [1 2 3 5 6 1 1 4]\n"
     ]
    }
   ],
   "source": [
    "# feature extraction\n",
    "model = LogisticRegression()\n",
    "rfe = RFE(model, 3)\n",
    "fit = rfe.fit(X, Y)\n",
    "print(\"Num Features: %d\") % fit.n_features_\n",
    "print(\"Selected Features: %s\") % fit.support_\n",
    "print(\"Feature Ranking: %s\") % fit.ranking_"
   ]
  },
  {
   "cell_type": "code",
   "execution_count": 22,
   "metadata": {},
   "outputs": [],
   "source": [
    "from sklearn import datasets\n",
    "from sklearn.multiclass import OneVsRestClassifier\n",
    "from sklearn.svm import LinearSVC\n",
    "from sklearn.feature_selection import SelectFromModel"
   ]
  },
  {
   "cell_type": "code",
   "execution_count": 17,
   "metadata": {},
   "outputs": [
    {
     "name": "stdout",
     "output_type": "stream",
     "text": [
      "(150, 4)\n",
      "(150,)\n"
     ]
    }
   ],
   "source": [
    "iris = datasets.load_iris()\n",
    "X, y = iris.data, iris.target\n",
    "print(X.shape)\n",
    "print(y.shape)"
   ]
  },
  {
   "cell_type": "code",
   "execution_count": 20,
   "metadata": {},
   "outputs": [
    {
     "data": {
      "text/plain": [
       "array([0, 0, 0, 0, 0, 0, 0, 0, 0, 0, 0, 0, 0, 0, 0, 0, 0, 0, 0, 0, 0, 0,\n",
       "       0, 0, 0, 0, 0, 0, 0, 0, 0, 0, 0, 0, 0, 0, 0, 0, 0, 0, 0, 0, 0, 0,\n",
       "       0, 0, 0, 0, 0, 0, 1, 1, 1, 1, 1, 1, 1, 1, 1, 1, 1, 1, 1, 1, 1, 1,\n",
       "       1, 1, 1, 1, 2, 1, 1, 1, 1, 1, 1, 1, 1, 1, 1, 1, 1, 2, 2, 1, 1, 1,\n",
       "       1, 1, 1, 1, 1, 1, 1, 1, 1, 1, 1, 1, 2, 2, 2, 2, 2, 2, 2, 2, 2, 2,\n",
       "       2, 2, 2, 2, 2, 2, 2, 2, 2, 2, 2, 2, 2, 2, 2, 2, 2, 2, 2, 1, 2, 2,\n",
       "       2, 1, 2, 2, 2, 2, 2, 2, 2, 2, 2, 2, 2, 2, 2, 2, 2, 2])"
      ]
     },
     "execution_count": 20,
     "metadata": {},
     "output_type": "execute_result"
    }
   ],
   "source": [
    "c = OneVsRestClassifier(LinearSVC(random_state=0))\n",
    "c.fit(X, y).predict(X)"
   ]
  },
  {
   "cell_type": "code",
   "execution_count": 25,
   "metadata": {},
   "outputs": [
    {
     "name": "stdout",
     "output_type": "stream",
     "text": [
      "[[1.4 0.2]\n",
      " [1.3 0.2]\n",
      " [1.5 0.2]\n",
      " [1.4 0.2]\n",
      " [1.7 0.4]]\n",
      "[[4.9 3.  1.4 0.2]\n",
      " [4.7 3.2 1.3 0.2]\n",
      " [4.6 3.1 1.5 0.2]\n",
      " [5.  3.6 1.4 0.2]\n",
      " [5.4 3.9 1.7 0.4]]\n"
     ]
    }
   ],
   "source": [
    "model = SelectFromModel(c, prefit=True)\n",
    "X_new = model.transform(X)\n",
    "print(X_new[1:6,:])\n",
    "print(X[1:6,:])"
   ]
  },
  {
   "cell_type": "code",
   "execution_count": 126,
   "metadata": {},
   "outputs": [],
   "source": [
    "#train_data = np.loadtxt(\"/Users/jain/Desktop/coding.all.countWOH9Samples.log2tpm.txt\", delimiter=\"\\t\", unpack=False)\n",
    "#train_label = np.loadtxt(\"/Users/jain/Desktop/all.count.data.namesWOH9Samples.features\", delimiter=\"\\t\", unpack=False)\n",
    "\n",
    "df1 = read_csv(\"/Users/jain/Desktop/coding.all.countWOH9Samples.log2tpm.txt\",index_col=0,sep=\"\\t\")\n",
    "df2 = read_csv(\"/Users/jain/Desktop/all.count.data.namesWOH9Samples.features\", index_col=0,sep=\"\\t\")\n",
    "\n",
    "variance = df1.var(axis=1)\n",
    "topQ = df1[variance >= variance.quantile(0.75)]\n",
    "geneNames = topQ.index\n",
    "\n",
    "train_data = topQ.values\n",
    "train_data = train_data.transpose()\n",
    "train_label = df2.values\n",
    "\n",
    "###Labels of control and preeclampsia samples based on oxygen samples\n",
    "labels = train_label[:,4]\n",
    "#labels = labels.astype(float)"
   ]
  },
  {
   "cell_type": "code",
   "execution_count": 131,
   "metadata": {},
   "outputs": [
    {
     "name": "stdout",
     "output_type": "stream",
     "text": [
      "[0.00106723 0.00121341 0.00327608 0.00239641 0.00154525 0.00150893\n",
      " 0.00247891 0.00215961 0.00102826 0.00103791 0.00119756 0.00102966\n",
      " 0.00117413 0.00251578 0.00184719 0.00177126 0.00102393 0.00475787\n",
      " 0.00196515 0.00217787 0.00104418 0.00115838 0.00180267 0.00208137\n",
      " 0.00126194 0.00120737 0.00254844 0.00212037 0.00119062 0.00166626\n",
      " 0.00122023 0.00109196 0.00135983 0.00286288 0.00145776 0.00229431\n",
      " 0.00111075 0.00141154 0.00100302 0.00111619 0.00113077 0.00158072\n",
      " 0.00108258 0.0010729  0.00124831 0.0011691  0.00206474 0.00170496\n",
      " 0.00177025 0.00161942 0.00130059 0.0019953  0.00136411 0.00109581\n",
      " 0.00245278 0.00178082 0.00115983 0.00144249 0.0016284  0.00196747\n",
      " 0.00154583 0.00111172 0.00100975 0.00174677 0.00106358 0.00113842\n",
      " 0.00101486 0.00108867 0.00156285 0.00116474 0.00102559 0.00122656\n",
      " 0.00154481 0.00106703 0.00149098 0.00135882 0.00109392 0.00322992\n",
      " 0.00136906 0.00167309 0.0012414  0.00126951 0.00151507 0.00150411\n",
      " 0.001431   0.00131121 0.00175744 0.00108389 0.00164015 0.00143161\n",
      " 0.00280494 0.00146738 0.00128297 0.00153333 0.00186992 0.00141291\n",
      " 0.00304662 0.00106841 0.00209259 0.0010313  0.00246295 0.00182656\n",
      " 0.00130807 0.0013594  0.00260257 0.0012135  0.00145231 0.00136968\n",
      " 0.00129399 0.00183568 0.00113983 0.00104408 0.00125887 0.00333635\n",
      " 0.00188922 0.00135383 0.00211203 0.00263197 0.00174285 0.0010626\n",
      " 0.0012311  0.00329171 0.001314   0.00254879 0.00265712 0.00132596\n",
      " 0.00179335 0.00154858 0.00108892 0.00142015 0.00108951 0.00143117\n",
      " 0.00116361]\n",
      "Index([u'ABCA2', u'ABCG2', u'ADAM18', u'AKAP14', u'ANKS1A', u'APOBEC3F',\n",
      "       u'AQP1', u'ARRDC3', u'BAG2', u'BMPR1B',\n",
      "       ...\n",
      "       u'TYMP', u'UBASH3B', u'VAMP4', u'VIT', u'WDR60', u'ZC3H6', u'ZNF160',\n",
      "       u'ZNF395', u'ZNF813', u'ZNF83'],\n",
      "      dtype='object', name=u'Genes', length=133)\n"
     ]
    }
   ],
   "source": [
    "from sklearn.ensemble import RandomForestClassifier\n",
    "from sklearn.ensemble import ExtraTreesClassifier\n",
    "#model = RandomForestClassifier()\n",
    "#rfe = RFE(estimator=model,step=5)\n",
    "#fit = rfe.fit(train_data, labels)\n",
    "#print(labels.shape)\n",
    "#print(train_data.shape)\n",
    "model = ExtraTreesClassifier(n_estimators=1000)\n",
    "model.fit(train_data, labels)\n",
    "im = model.feature_importances_\n",
    "selectedGenes = topQ[im > 0.001]\n",
    "print(im[im > 0.001])\n",
    "print(selectedGenes.index)\n",
    "selectedGenes.to_csv(\"/Users/jain/Desktop/selectedGenesRandomForest.txt\", sep='\\t')\n",
    "#print(\"Num Features: %d\") % fit.n_features_\n",
    "#print(\"Selected Features: %s\") % fit.support_\n",
    "#print(\"Feature Ranking: %s\") % fit.ranking_\n"
   ]
  },
  {
   "cell_type": "code",
   "execution_count": null,
   "metadata": {},
   "outputs": [],
   "source": []
  }
 ],
 "metadata": {
  "kernelspec": {
   "display_name": "Python 2",
   "language": "python",
   "name": "python2"
  },
  "language_info": {
   "codemirror_mode": {
    "name": "ipython",
    "version": 2
   },
   "file_extension": ".py",
   "mimetype": "text/x-python",
   "name": "python",
   "nbconvert_exporter": "python",
   "pygments_lexer": "ipython2",
   "version": "2.7.10"
  }
 },
 "nbformat": 4,
 "nbformat_minor": 2
}
