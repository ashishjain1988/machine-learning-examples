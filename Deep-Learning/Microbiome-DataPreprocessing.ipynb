{
 "cells": [
  {
   "cell_type": "code",
   "execution_count": 50,
   "metadata": {},
   "outputs": [],
   "source": [
    "from Bio import SeqIO\n",
    "from Bio.SeqRecord import SeqRecord\n",
    "import sys\n",
    "import csv\n",
    "import matplotlib.pyplot as plt\n",
    "import matplotlib\n",
    "import pandas as pd\n",
    "import numpy as np\n",
    "import dill as pickle\n",
    "import os\n",
    "import json"
   ]
  },
  {
   "cell_type": "code",
   "execution_count": 5,
   "metadata": {},
   "outputs": [],
   "source": [
    "with open('C:\\\\Users\\\\ctg3039\\\\Downloads\\\\IGC.DOI.tsv', 'w') as handle:\n",
    "    writer = csv.writer(handle, delimiter='\\t')\n",
    "    writer.writerow([\"Sequence-Id\", \"Description\",\"Sequence\"])\n",
    "    for seq_record in SeqIO.parse(open(\"C:\\\\Users\\\\ctg3039\\\\Downloads\\\\IGC.DOI.pep\", mode='r'), 'fasta'):\n",
    "        # remove .id from .description record (remove all before first space)\n",
    "        seq_record.description=' '.join(seq_record.description.split()[1:])\n",
    "        writer.writerow([seq_record.id, seq_record.description, seq_record.seq])"
   ]
  },
  {
   "cell_type": "code",
   "execution_count": 7,
   "metadata": {},
   "outputs": [],
   "source": [
    "raw_data = pd.read_csv('C:\\\\Users\\\\ctg3039\\\\Downloads\\\\IGC.DOI.tsv', sep=\"\\t\", header='infer')\n",
    "raw_data.columns = raw_data.columns.str.strip().str.lower().str.replace(' ', '_')"
   ]
  },
  {
   "cell_type": "code",
   "execution_count": 9,
   "metadata": {},
   "outputs": [],
   "source": [
    "length = [len(x) for x in raw_data.sequence]"
   ]
  },
  {
   "cell_type": "code",
   "execution_count": 26,
   "metadata": {},
   "outputs": [
    {
     "data": {
      "image/png": "[encoded data removed]",
      "text/plain": [
       "<Figure size 432x288 with 1 Axes>"
      ]
     },
     "metadata": {
      "needs_background": "light"
     },
     "output_type": "display_data"
    }
   ],
   "source": [
    "plt.hist(length, bins='auto',density=True, facecolor='g')\n",
    "plt.xlabel('Seqeunce length')\n",
    "plt.ylabel('Frequency')\n",
    "plt.title('Sequence length distribution')\n",
    "plt.show()"
   ]
  },
  {
   "cell_type": "code",
   "execution_count": 27,
   "metadata": {},
   "outputs": [
    {
     "data": {
      "text/plain": [
       "1189"
      ]
     },
     "execution_count": 27,
     "metadata": {},
     "output_type": "execute_result"
    }
   ],
   "source": [
    "int(np.percentile(length, 99))"
   ]
  },
  {
   "cell_type": "code",
   "execution_count": 2,
   "metadata": {},
   "outputs": [
    {
     "name": "stdout",
     "output_type": "stream",
     "text": [
      "pad_length : 1439\n",
      "epochs : 100\n",
      "filter_length : [50, 50]\n",
      "patience : 20\n",
      "filters : [400, 400]\n",
      "cohst_neg_file : \n",
      "n_fc_layers : 2\n",
      "no_pad : False\n",
      "data_dir : example/CoMET-outputs/\n",
      "dataset_size : 11036\n",
      "validation_split : 0.2\n",
      "motifs : True\n",
      "infile : example/sprot_dna_tf_pfam.tsv\n",
      "motifs_filetype : png\n",
      "optimizer : nadam\n",
      "learning_rate : 0.002\n",
      "batch_size : 50\n",
      "key : fam\n",
      "reduce_factor : 0.5\n",
      "filter_stride : [1, 1]\n",
      "dataset_fraction : 1.0\n",
      "extras : \n",
      "mode : CoDER\n",
      "n_conv_layers : 2\n",
      "model : \n"
     ]
    }
   ],
   "source": [
    "#Printing the input parameters\n",
    "infile = open(\"C:\\\\Users\\\\ctg3039\\\\Downloads\\\\569366338.flags\",'rb')\n",
    "obj = pickle.load(infile)\n",
    "for attribute, value in obj.items():\n",
    "    print('{} : {}'.format(attribute, value))"
   ]
  },
  {
   "cell_type": "code",
   "execution_count": 5,
   "metadata": {},
   "outputs": [
    {
     "name": "stdout",
     "output_type": "stream",
     "text": [
      "backend : tensorflow\n"
     ]
    }
   ],
   "source": [
    "#Printing the architecture\n",
    "infile = open(\"C:\\\\Users\\\\ctg3039\\\\Downloads\\\\569366338.arch\",'rb')\n",
    "obj = json.load(infile)\n",
    "print(\"backend : {}\".format(obj[\"backend\"]))\n",
    "#for attribute, value in obj.items():\n",
    "#    print('{} : {}'.format(attribute, value))"
   ]
  },
  {
   "cell_type": "code",
   "execution_count": 51,
   "metadata": {},
   "outputs": [],
   "source": [
    "b = np.load('C:\\\\Users\\\\ctg3039\\\\Downloads\\\\569366338.history.npz')"
   ]
  },
  {
   "cell_type": "code",
   "execution_count": 52,
   "metadata": {},
   "outputs": [
    {
     "name": "stdout",
     "output_type": "stream",
     "text": [
      "loss : [0.0135473  0.01324395 0.01324395 0.01324395 0.01324395 0.01324395\n",
      " 0.01324395 0.01324395 0.01324395 0.01324395 0.01324395 0.01324395\n",
      " 0.01324395 0.01324395 0.01324395 0.01324395 0.01324395 0.01324395\n",
      " 0.01324395 0.01324395 0.01324395]\n",
      "training_duration : 1204.3395929336548\n",
      "mean_cat_acc : [0.02381493 0.02366003 0.02363891 0.02368321 0.02365185 0.02364821\n",
      " 0.0236508  0.02364929 0.0236602  0.0236389  0.02363397 0.02366745\n",
      " 0.02363771 0.02364026 0.02366404 0.0236478  0.0236655  0.0236506\n",
      " 0.02365431 0.02365087 0.02364685]\n",
      "lr : [0.002 0.002 0.002 0.002 0.002 0.002 0.001 0.001 0.001 0.001 0.001 0.001\n",
      " 0.001 0.001 0.001 0.001 0.001 0.001 0.001 0.001 0.001]\n",
      "val_mean_cat_acc : [0.02393351 0.02393351 0.02393351 0.02393351 0.02393351 0.02393351\n",
      " 0.02393351 0.02393351 0.02393351 0.02393351 0.02393351 0.02393351\n",
      " 0.02393351 0.02393351 0.02393351 0.02393351 0.02393351 0.02393351\n",
      " 0.02393351 0.02393351 0.02393351]\n",
      "val_loss : [0.01339028 0.01339028 0.01339028 0.01339028 0.01339028 0.01339028\n",
      " 0.01339028 0.01339028 0.01339028 0.01339028 0.01339028 0.01339028\n",
      " 0.01339028 0.01339028 0.01339028 0.01339028 0.01339028 0.01339028\n",
      " 0.01339028 0.01339028 0.01339028]\n"
     ]
    }
   ],
   "source": [
    "for attribute, value in b.items():\n",
    "    print('{} : {}'.format(attribute, value))"
   ]
  },
  {
   "cell_type": "code",
   "execution_count": 59,
   "metadata": {},
   "outputs": [
    {
     "data": {
      "image/png": "[encoded data removed]",
      "text/plain": [
       "<Figure size 432x288 with 1 Axes>"
      ]
     },
     "metadata": {
      "needs_background": "light"
     },
     "output_type": "display_data"
    }
   ],
   "source": [
    "#plt.plot(np.insert(b[\"loss\"],0,np.max(b[\"loss\"])))\n",
    "f = plt.figure()\n",
    "plt.plot(b[\"loss\"], color = 'blue',label='Training Set')\n",
    "plt.plot(b[\"val_loss\"], color='green', label='Validation Set')\n",
    "plt.legend()\n",
    "plt.xlabel('Epochs')\n",
    "plt.ylabel('loss function')\n",
    "#plt.title('Sequence length distribution')\n",
    "plt.show()\n",
    "f.savefig(\"loss.pdf\", bbox_inches='tight')"
   ]
  },
  {
   "cell_type": "code",
   "execution_count": null,
   "metadata": {},
   "outputs": [],
   "source": []
  },
  {
   "cell_type": "code",
   "execution_count": 57,
   "metadata": {},
   "outputs": [
    {
     "data": {
      "image/png": "[encoded data removed]",
      "text/plain": [
       "<Figure size 432x288 with 1 Axes>"
      ]
     },
     "metadata": {
      "needs_background": "light"
     },
     "output_type": "display_data"
    }
   ],
   "source": [
    "#plt.plot(np.insert(b[\"mean_cat_acc\"],0,np.min(b[\"mean_cat_acc\"])))\n",
    "f = plt.figure()\n",
    "plt.plot(b[\"mean_cat_acc\"], color = 'blue',label='Training Set')\n",
    "plt.plot(b[\"val_mean_cat_acc\"], color='green', label='Validation Set')\n",
    "plt.xlabel('Epochs')\n",
    "plt.ylabel('Categorical Accuracy')\n",
    "#plt.title('Sequence length distribution')\n",
    "plt.legend(bbox_to_anchor=(1.05, 1), loc=2, borderaxespad=0.)\n",
    "plt.show()\n",
    "f.savefig(\"CatAccuracy.pdf\", bbox_inches='tight')"
   ]
  },
  {
   "cell_type": "code",
   "execution_count": 9,
   "metadata": {},
   "outputs": [],
   "source": [
    "length = 1439\n",
    "raw_data = pd.read_csv(\"C:\\\\Users\\\\ctg3039\\\\Downloads\\\\CoMET-master\\\\CoMET-master\\\\example\\\\sprot_dna_tf_pfam.tsv\", sep=\"\\t\", header='infer')\n",
    "clipData = [x[0:length] for x in raw_data.Sequence]"
   ]
  },
  {
   "cell_type": "code",
   "execution_count": 10,
   "metadata": {},
   "outputs": [
    {
     "data": {
      "text/plain": [
       "1439"
      ]
     },
     "execution_count": 10,
     "metadata": {},
     "output_type": "execute_result"
    }
   ],
   "source": [
    "max(([len(x) for x in clipData]))"
   ]
  },
  {
   "cell_type": "code",
   "execution_count": 53,
   "metadata": {},
   "outputs": [],
   "source": [
    "time=pd.read_csv('C:\\\\Users\\\\ctg3039\\\\Downloads\\\\IGC-DOI-ELMo-training.txt', sep=\"\\t\",header=None)\n",
    "perplexity=[]\n",
    "for i in range(0,len(time[0])):\n",
    "    if(i % 2 == 0):\n",
    "        perplexity.append(float(time[0][i].split(\"train_perplexity=\")[1]))"
   ]
  },
  {
   "cell_type": "code",
   "execution_count": 54,
   "metadata": {},
   "outputs": [
    {
     "data": {
      "image/png": "[encoded data removed]",
      "text/plain": [
       "<Figure size 432x288 with 1 Axes>"
      ]
     },
     "metadata": {
      "needs_background": "light"
     },
     "output_type": "display_data"
    }
   ],
   "source": [
    "#f = plt.figure()\n",
    "plt.plot(perplexity, color = 'blue',label='Training Set')\n",
    "#plt.plot(b[\"val_mean_cat_acc\"], color='green', label='Test Set')\n",
    "plt.xlabel('Epochs')\n",
    "plt.ylabel('Perplexity')\n",
    "plt.title('Training of IGC DOI dataset')\n",
    "plt.legend(bbox_to_anchor=(1.05, 1), loc=2, borderaxespad=0.)\n",
    "plt.show()\n",
    "f.savefig(\"C:\\\\Users\\\\ctg3039\\\\Downloads\\\\IGC-DOI-ELMo-training-plot.pdf\", bbox_inches='tight')  "
   ]
  },
  {
   "cell_type": "code",
   "execution_count": 48,
   "metadata": {},
   "outputs": [],
   "source": [
    "time=pd.read_csv('C:\\\\Users\\\\ctg3039\\\\Downloads\\\\IGC-DOI.trainingLogs.txt', sep=\"\\t\",header=None)\n",
    "perplexity=[]\n",
    "batchSize=[]\n",
    "for i in range(0,len(time[0])):\n",
    "    if(i % 2 == 0):\n",
    "        perplexity.append(float(time[0][i].split(\"train_perplexity=\")[1]))\n",
    "        batchSize.append(float(time[0][i].split(\"Batch \")[1].split(\",\")[0]))"
   ]
  },
  {
   "cell_type": "code",
   "execution_count": 2,
   "metadata": {},
   "outputs": [
    {
     "ename": "NameError",
     "evalue": "name 'np' is not defined",
     "output_type": "error",
     "traceback": [
      "\u001b[1;31m---------------------------------------------------------------------------\u001b[0m",
      "\u001b[1;31mNameError\u001b[0m                                 Traceback (most recent call last)",
      "\u001b[1;32m<ipython-input-2-75eb706fdedf>\u001b[0m in \u001b[0;36m<module>\u001b[1;34m\u001b[0m\n\u001b[0;32m      2\u001b[0m \u001b[1;32mimport\u001b[0m \u001b[0mmatplotlib\u001b[0m\u001b[1;33m.\u001b[0m\u001b[0mpyplot\u001b[0m \u001b[1;32mas\u001b[0m \u001b[0mplt\u001b[0m\u001b[1;33m\u001b[0m\u001b[1;33m\u001b[0m\u001b[0m\n\u001b[0;32m      3\u001b[0m \u001b[0mf\u001b[0m \u001b[1;33m=\u001b[0m \u001b[0mplt\u001b[0m\u001b[1;33m.\u001b[0m\u001b[0mfigure\u001b[0m\u001b[1;33m(\u001b[0m\u001b[1;33m)\u001b[0m\u001b[1;33m\u001b[0m\u001b[1;33m\u001b[0m\u001b[0m\n\u001b[1;32m----> 4\u001b[1;33m \u001b[0mplt\u001b[0m\u001b[1;33m.\u001b[0m\u001b[0mplot\u001b[0m\u001b[1;33m(\u001b[0m\u001b[0mnp\u001b[0m\u001b[1;33m.\u001b[0m\u001b[0masarray\u001b[0m\u001b[1;33m(\u001b[0m\u001b[0mperplexity\u001b[0m\u001b[1;33m)\u001b[0m\u001b[1;33m)\u001b[0m\u001b[1;33m\u001b[0m\u001b[1;33m\u001b[0m\u001b[0m\n\u001b[0m\u001b[0;32m      5\u001b[0m \u001b[1;31m#plt.plot(b[\"val_mean_cat_acc\"], color='green', label='Test Set')\u001b[0m\u001b[1;33m\u001b[0m\u001b[1;33m\u001b[0m\u001b[1;33m\u001b[0m\u001b[0m\n\u001b[0;32m      6\u001b[0m \u001b[0mplt\u001b[0m\u001b[1;33m.\u001b[0m\u001b[0mxlabel\u001b[0m\u001b[1;33m(\u001b[0m\u001b[1;34m'Batch'\u001b[0m\u001b[1;33m)\u001b[0m\u001b[1;33m\u001b[0m\u001b[1;33m\u001b[0m\u001b[0m\n",
      "\u001b[1;31mNameError\u001b[0m: name 'np' is not defined"
     ]
    },
    {
     "data": {
      "text/plain": [
       "<Figure size 432x288 with 0 Axes>"
      ]
     },
     "metadata": {},
     "output_type": "display_data"
    }
   ],
   "source": [
    "%matplotlib inline\n",
    "import matplotlib.pyplot as plt\n",
    "f = plt.figure()\n",
    "plt.plot(np.asarray(perplexity))\n",
    "#plt.plot(b[\"val_mean_cat_acc\"], color='green', label='Test Set')\n",
    "plt.xlabel('Batch')\n",
    "plt.ylabel('Perplexity')\n",
    "plt.title('Training of IGC DOI dataset')\n",
    "plt.show()\n",
    "f.savefig(\"C:\\\\Users\\\\ctg3039\\\\Downloads\\\\IGC-DOI-ELMo-trainingLogs.pdf\", bbox_inches='tight') "
   ]
  },
  {
   "cell_type": "code",
   "execution_count": null,
   "metadata": {},
   "outputs": [],
   "source": [
    "pd.DataFrame(list(zip(batchSize,perplexity)),columns =['Batch Size','Perplexity'])"
   ]
  },
  {
   "cell_type": "code",
   "execution_count": 3,
   "metadata": {},
   "outputs": [
    {
     "data": {
      "image/png": "[encoded data removed]",
      "text/plain": [
       "<Figure size 432x288 with 1 Axes>"
      ]
     },
     "metadata": {
      "needs_background": "light"
     },
     "output_type": "display_data"
    }
   ],
   "source": [
    "from scipy.interpolate import make_interp_spline, BSpline\n",
    "#small_time=[5,11.09,18.8]\n",
    "#small_time=[17482,39936,67726]\n",
    "big_time=[1.28,1.72,3.8,6.3]\n",
    "residues=[6.4,9.4,21.97,37.2]\n",
    "#T=max()\n",
    "#xnew = np.linspace(min(residues),max(residues),300) #300 represents number of points to make between T.min and T.max\n",
    "#power=small_time\n",
    "#spl = make_interp_spline(residues, power, k=3) #BSpline object\n",
    "#power_smooth = spl(xnew)\n",
    "#f = plt.figure()\n",
    "#plt.plot(residues,[i * 3 for i in small_time], color = 'blue',label='Small DL Box')\n",
    "#plt.plot(residues,[i * 7 for i in big_time], color = 'green',label='Big DL Box')\n",
    "#plt.plot(residues,small_time, color = 'blue',label='Small DL Box')\n",
    "plt.plot(residues,big_time, color = 'green',label='Big DL Box')\n",
    "\n",
    "plt.xlabel('Number of Amino Acids/Residues (in Millions)',fontsize=12)\n",
    "#plt.ylabel('Time (in hours)',fontsize=12)\n",
    "plt.ylabel('Cost (in dollars)',fontsize=12)\n",
    "plt.title('GPU biLM training time comparison',fontsize=15)\n",
    "plt.legend(bbox_to_anchor=(1.05, 1), loc=2, borderaxespad=0.,fontsize=12)\n",
    "plt.show()\n",
    "#f.savefig(\"C:\\\\Users\\\\ctg3039\\\\Downloads\\\\GPU-processingCost-Plot.pdf\", bbox_inches='tight')  "
   ]
  },
  {
   "cell_type": "code",
   "execution_count": 101,
   "metadata": {},
   "outputs": [],
   "source": [
    "from scipy.stats import linregress\n",
    "slope, intercept, r_value, p_value, std_err = linregress(residues,big_time)"
   ]
  },
  {
   "cell_type": "code",
   "execution_count": 102,
   "metadata": {},
   "outputs": [
    {
     "data": {
      "text/plain": [
       "833.3182933782642"
      ]
     },
     "execution_count": 102,
     "metadata": {},
     "output_type": "execute_result"
    }
   ],
   "source": [
    "(intercept+slope*1677)"
   ]
  },
  {
   "cell_type": "code",
   "execution_count": 104,
   "metadata": {},
   "outputs": [
    {
     "data": {
      "text/plain": [
       "34.72166666666667"
      ]
     },
     "execution_count": 104,
     "metadata": {},
     "output_type": "execute_result"
    }
   ],
   "source": [
    "833.32/24"
   ]
  },
  {
   "cell_type": "code",
   "execution_count": null,
   "metadata": {},
   "outputs": [],
   "source": []
  }
 ],
 "metadata": {
  "kernelspec": {
   "display_name": "Python 3",
   "language": "python",
   "name": "python3"
  },
  "language_info": {
   "codemirror_mode": {
    "name": "ipython",
    "version": 3
   },
   "file_extension": ".py",
   "mimetype": "text/x-python",
   "name": "python",
   "nbconvert_exporter": "python",
   "pygments_lexer": "ipython3",
   "version": "3.6.8"
  }
 },
 "nbformat": 4,
 "nbformat_minor": 2
}
