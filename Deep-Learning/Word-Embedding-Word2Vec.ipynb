{
 "cells": [
  {
   "cell_type": "code",
   "execution_count": 1,
   "metadata": {},
   "outputs": [],
   "source": [
    "import os\n",
    "import numpy as np\n",
    "from nltk.tokenize import sent_tokenize, word_tokenize\n",
    "import gensim\n",
    "from gensim.models import Word2Vec\n",
    "import pandas as pd"
   ]
  },
  {
   "cell_type": "code",
   "execution_count": 75,
   "metadata": {},
   "outputs": [],
   "source": [
    "train_path = os.path.join(\"C:\\\\Users\\\\ctg3039\\\\Downloads\\\\Code\\\\machine-learning-examples\\\\Shakespeare-Text\\\\\", \"1H4.txt\")\n",
    "sample = open(train_path, \"r\") \n",
    "s = sample.read()\n",
    "data = [] \n",
    "#text = \"\\n\".join([ll.rstrip() for ll in s.splitlines() if ll.strip()])\n",
    "f = s.replace(\"\\n\", \" \")\n",
    "#Removing the non ASCII characters\n",
    "#f = f[np.where(f < 128)]\n",
    "\n",
    "# iterate through each sentence in the file, senetence tokenizer\n",
    "for i in sent_tokenize(f):\n",
    "    temp = [] \n",
    "    # tokenize the sentence into words \n",
    "    for j in word_tokenize(i.strip()): \n",
    "        temp.append(j.lower())\n",
    "    data.append(temp)\n",
    "#data = [line.rstrip('\\n') for line in open(train_path)]"
   ]
  },
  {
   "cell_type": "code",
   "execution_count": 76,
   "metadata": {},
   "outputs": [
    {
     "name": "stdout",
     "output_type": "stream",
     "text": [
      "['of', 'prisoners', 'hotspur', 'took', 'mordake', ',', 'earl', 'of', 'fife', 'and', 'eldest', 'son', 'to', 'beaten', 'douglas', ',', 'and', 'the', 'earl', 'of', 'atholl', ',', 'of', 'murray', ',', 'angus', ',', 'and', 'menteith', '.']\n"
     ]
    }
   ],
   "source": []
  },
  {
   "cell_type": "code",
   "execution_count": 73,
   "metadata": {},
   "outputs": [],
   "source": [
    "model1 = Word2Vec(data, min_count = 2,size = 100, window = 5,iter=20) "
   ]
  },
  {
   "cell_type": "code",
   "execution_count": 24,
   "metadata": {},
   "outputs": [],
   "source": [
    "raw_data = pd.read_csv(\"C:\\\\Users\\\\ctg3039\\\\Downloads\\\\CoMET-master\\\\CoMET-master\\\\example\\\\sprot_dna_tf_pfam.tsv\", sep=\"\\t\", header='infer')"
   ]
  },
  {
   "cell_type": "code",
   "execution_count": 25,
   "metadata": {},
   "outputs": [
    {
     "data": {
      "text/plain": [
       "3969"
      ]
     },
     "execution_count": 25,
     "metadata": {},
     "output_type": "execute_result"
    }
   ],
   "source": [
    "#raw_data.columns = raw_data.columns.str.strip().str.lower().str.replace(' ', '_')\n",
    "le = max(len(x) for x in raw_data.sequence)\n",
    "le"
   ]
  }
 ],
 "metadata": {
  "kernelspec": {
   "display_name": "Python 3",
   "language": "python",
   "name": "python3"
  },
  "language_info": {
   "codemirror_mode": {
    "name": "ipython",
    "version": 3
   },
   "file_extension": ".py",
   "mimetype": "text/x-python",
   "name": "python",
   "nbconvert_exporter": "python",
   "pygments_lexer": "ipython3",
   "version": "3.6.8"
  }
 },
 "nbformat": 4,
 "nbformat_minor": 2
}
