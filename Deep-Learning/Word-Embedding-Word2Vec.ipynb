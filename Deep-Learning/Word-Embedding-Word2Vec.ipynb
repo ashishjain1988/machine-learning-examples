{
 "cells": [
  {
   "cell_type": "code",
   "execution_count": null,
   "metadata": {},
   "outputs": [],
   "source": [
    "import os\n",
    "from nltk.tokenize import sent_tokenize, word_tokenize \n",
    "from gensim.models import Word2Vec"
   ]
  },
  {
   "cell_type": "code",
   "execution_count": null,
   "metadata": {},
   "outputs": [],
   "source": [
    "train_path = os.path.join(\"C:\\\\Users\\\\ctg3039\\\\Downloads\\\\FolgerDigitalTexts_TXT_Complete\\\\\", \"1H4.txt\")\n",
    "sample = open(train_path, \"r\") \n",
    "s = sample.read()\n",
    "data = [] \n",
    "#text = \"\\n\".join([ll.rstrip() for ll in s.splitlines() if ll.strip()])\n",
    "f = s.replace(\"\\n\", \" \")\n",
    "#Removing the non ASCII characters\n",
    "#f = f[np.where(f < 128)]\n",
    "# iterate through each sentence in the file \n",
    "for i in sent_tokenize(f):\n",
    "    #print(i)\n",
    "    temp = [] \n",
    "    # tokenize the sentence into words \n",
    "    for j in word_tokenize(i.strip()): \n",
    "        data.append(j.lower())\n",
    "    #data.append(temp)"
   ]
  },
  {
   "cell_type": "code",
   "execution_count": null,
   "metadata": {},
   "outputs": [],
   "source": [
    "model1 = Word2Vec(data, min_count = 1,size = 100, window = 5) "
   ]
  }
 ],
 "metadata": {
  "kernelspec": {
   "display_name": "Python 3",
   "language": "python",
   "name": "python3"
  },
  "language_info": {
   "codemirror_mode": {
    "name": "ipython",
    "version": 3
   },
   "file_extension": ".py",
   "mimetype": "text/x-python",
   "name": "python",
   "nbconvert_exporter": "python",
   "pygments_lexer": "ipython3",
   "version": "3.6.8"
  }
 },
 "nbformat": 4,
 "nbformat_minor": 2
}
